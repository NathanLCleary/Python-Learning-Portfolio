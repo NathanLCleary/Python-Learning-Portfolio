{
 "cells": [
  {
   "cell_type": "markdown",
   "metadata": {},
   "source": [
    "### Objectives: Calculate GINI values for single nodes as well as for a split."
   ]
  },
  {
   "cell_type": "code",
   "execution_count": 1,
   "metadata": {},
   "outputs": [
    {
     "name": "stdout",
     "output_type": "stream",
     "text": [
      "9/7 split, gini : 0.4921875\n"
     ]
    }
   ],
   "source": [
    "# Single Node 9/7\n",
    "print(\"9/7 split, gini :\", 1 - (9/16)**2 - (7/16)**2)"
   ]
  },
  {
   "cell_type": "code",
   "execution_count": 3,
   "metadata": {},
   "outputs": [
    {
     "name": "stdout",
     "output_type": "stream",
     "text": [
      "1/4, 2/1, 1/1 split gini:  0.3933333333333332\n"
     ]
    }
   ],
   "source": [
    "# GINI value for a three way split.\n",
    "# Nodes 1/4, 2/1, 1/1\n",
    "p1 = 1 - (1/5)**2 - (4/5)**2\n",
    "p2 = 1 - (2/3)**2 - (1/3)**2\n",
    "p3 = 1 - (1/2)**2 - (1/2)**2 \n",
    "\n",
    "# wieghted sum of gini values\n",
    "gini = (5/10)*p1 + (3/10)*p2 + (2/10)* p3\n",
    "print(\"1/4, 2/1, 1/1 split gini: \", gini)"
   ]
  },
  {
   "cell_type": "code",
   "execution_count": null,
   "metadata": {},
   "outputs": [],
   "source": []
  }
 ],
 "metadata": {
  "kernelspec": {
   "display_name": "Python 3 (ipykernel)",
   "language": "python",
   "name": "python3"
  },
  "language_info": {
   "codemirror_mode": {
    "name": "ipython",
    "version": 3
   },
   "file_extension": ".py",
   "mimetype": "text/x-python",
   "name": "python",
   "nbconvert_exporter": "python",
   "pygments_lexer": "ipython3",
   "version": "3.8.13"
  }
 },
 "nbformat": 4,
 "nbformat_minor": 4
}
